{
 "cells": [
  {
   "cell_type": "code",
   "execution_count": 1,
   "metadata": {},
   "outputs": [],
   "source": [
    "import numpy as np\n",
    "import pandas as pd\n",
    "import random\n",
    "import re\n",
    "import matplotlib as plt"
   ]
  },
  {
   "cell_type": "code",
   "execution_count": 2,
   "metadata": {},
   "outputs": [],
   "source": [
    "##以下为数据分析\n",
    "a=pd.read_csv(r\"C:\\Users\\49653\\Desktop\\yx\\data\\newdata.csv\",encoding='utf-8')\n",
    "didian=['0','1']  ##0为公路，1为隧道\n",
    "fangxiang1=['0','北','南','西','东','东北','东南','西北','西南'] ##北 南 西 东 北西 南西 北东 南东\n",
    "ri=['0','1']  ## 1-15上旬  16以下下旬\n",
    "shike=['0','1']  ##早6：00-17：59 为0，晚为18：00-05：59 为1\n",
    "label=[11,12,19,21,22,23,29,31,32,33,34,35,36,37,38,39]  ## 事故形态,为特征"
   ]
  },
  {
   "cell_type": "code",
   "execution_count": null,
   "metadata": {},
   "outputs": [],
   "source": [
    "list(a['shi']).count(1)\n",
    "for i in range(len(fangxiang1)):\n",
    "    print(list(a['forward']).count(i))"
   ]
  },
  {
   "cell_type": "code",
   "execution_count": null,
   "metadata": {},
   "outputs": [],
   "source": [
    "fangxiang1[1]\n",
    "b=0\n",
    "for i in range(len(a)):\n",
    "     if(a['length'][i]<50):\n",
    "            b+=1\n",
    "a1=pd.read_excel(r'D:\\coding\\yx\\data\\data.xlsx')\n",
    "\n",
    "def qiantao(zifu,zifuchuan):\n",
    "    return [substr.start() for substr in re.finditer(zifu, zifuchuan)]\n",
    "a1"
   ]
  },
  {
   "cell_type": "code",
   "execution_count": null,
   "metadata": {},
   "outputs": [],
   "source": [
    "a11=list(a1['事故发生日期'])"
   ]
  },
  {
   "cell_type": "code",
   "execution_count": null,
   "metadata": {},
   "outputs": [],
   "source": [
    "shi=[]\n",
    "ri=[]\n",
    "for i in range(len(a11)):\n",
    "    kongge=qiantao(' ',a11[i])[0]\n",
    "    maohao=qiantao(':',a11[i])[0]\n",
    "    shi.append(a11[i][kongge+1:maohao])\n",
    "for i in range(len(a11)):\n",
    "    xie2=qiantao('/',a11[i])[1]\n",
    "    kongge=qiantao(' ',a11[i])[0]\n",
    "    ri.append(a11[i][xie2+1:kongge])"
   ]
  },
  {
   "cell_type": "code",
   "execution_count": null,
   "metadata": {},
   "outputs": [],
   "source": [
    "# for i in range(24):\n",
    "#     print(shi.count(str(i)))\n",
    "for i in range(1,31):\n",
    "    print(ri.count(str(i)))\n"
   ]
  }
 ],
 "metadata": {
  "kernelspec": {
   "display_name": "Python 3",
   "language": "python",
   "name": "python3"
  },
  "language_info": {
   "codemirror_mode": {
    "name": "ipython",
    "version": 3
   },
   "file_extension": ".py",
   "mimetype": "text/x-python",
   "name": "python",
   "nbconvert_exporter": "python",
   "pygments_lexer": "ipython3",
   "version": "3.8.3"
  }
 },
 "nbformat": 4,
 "nbformat_minor": 4
}
